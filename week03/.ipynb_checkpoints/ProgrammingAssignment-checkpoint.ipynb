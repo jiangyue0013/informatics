{
  "nbformat": 4,
  "nbformat_minor": 0,
  "metadata": {
    "colab": {
      "name": "ProgrammingAssignment.ipynb",
      "provenance": [],
      "collapsed_sections": []
    },
    "kernelspec": {
      "name": "python3",
      "display_name": "Python 3"
    },
    "language_info": {
      "name": "python"
    }
  },
  "cells": [
    {
      "cell_type": "code",
      "metadata": {
        "id": "YKMOqyjw7oPA"
      },
      "source": [
        "import pandas as pd\n",
        "\n",
        "data = pd.read_csv(\"/content/drive/MyDrive/Colab Notebooks/ProgrammingAssignment_MLAIFNCE9015.csv\",error_bad_lines=False)\n",
        "products_list = data.values.tolist()"
      ],
      "execution_count": 3,
      "outputs": []
    },
    {
      "cell_type": "code",
      "metadata": {
        "id": "KV9tKDbACOze"
      },
      "source": [
        "def question1():\n",
        "  #you are expected to write the functionality for question 1 here\n",
        "  pass"
      ],
      "execution_count": null,
      "outputs": []
    },
    {
      "cell_type": "code",
      "metadata": {
        "id": "02jP6j1-Cjxy"
      },
      "source": [
        "def question2():\n",
        "  #you are expected to write the functionality for question 2 here\n",
        "  pass"
      ],
      "execution_count": null,
      "outputs": []
    },
    {
      "cell_type": "code",
      "metadata": {
        "id": "NcSVpIqIClwm"
      },
      "source": [
        "def question3():\n",
        "  #you are expected to write the functionality for question 3 here\n",
        "  pass"
      ],
      "execution_count": null,
      "outputs": []
    },
    {
      "cell_type": "code",
      "metadata": {
        "id": "M6ztJ2DACo00"
      },
      "source": [
        "def question4():\n",
        "  #you are expected to write the functionality for question 4 here\n",
        "  pass"
      ],
      "execution_count": null,
      "outputs": []
    }
  ]
}