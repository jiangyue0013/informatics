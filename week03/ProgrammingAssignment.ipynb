{
  "cells": [
    {
      "cell_type": "code",
      "execution_count": 6,
      "metadata": {
        "id": "YKMOqyjw7oPA"
      },
      "outputs": [
        {
          "name": "stdout",
          "output_type": "stream",
          "text": [
            "[['A002311', 'Akaash', 200, 450, 340, 861, 'Food'], ['A002312', 'Garnier', 150, 350, 267, 476, 'Luxury'], ['Z000476', 'Lupilo', 343, 235, 643, 654, 'Baby'], ['Z000479', 'Rico', 671, 355, 465, 342, 'Food'], ['K000011', 'Sanar', 233, 464, 658, 453, 'Food'], ['K000012', 'Prada', 198, 187, 216, 207, 'Luxury'], ['K000013', 'Snackoria', 542, 661, 459, 997, 'Food'], ['K000014', 'Nuk', 581, 478, 765, 894, 'Baby'], ['R000115', 'Progue', 655, 887, 567, 783, 'Luxury'], ['R000451', 'Vittar', 468, 390, 287, 537, 'Personal Care']]\n"
          ]
        }
      ],
      "source": [
        "import pandas as pd\n",
        "\n",
        "data = pd.read_csv(\"ProgrammingAssignment_MLAIFNCE9015.csv\")\n",
        "products_list = data.values.tolist()\n",
        "print(products_list)"
      ]
    },
    {
      "cell_type": "code",
      "execution_count": null,
      "metadata": {
        "id": "KV9tKDbACOze"
      },
      "outputs": [],
      "source": [
        "import pandas as pd\n",
        "\n",
        "def question1():\n",
        "  #you are expected to write the functionality for question 1 here\n",
        "  data = pd.read_csv(\"ProgrammingAssignment_MLAIFNCE9015.csv\")\n",
        "  products_list = data.values.tolist()\n",
        "  \n",
        "  pass"
      ]
    },
    {
      "cell_type": "code",
      "execution_count": null,
      "metadata": {
        "id": "02jP6j1-Cjxy"
      },
      "outputs": [],
      "source": [
        "def question2():\n",
        "  #you are expected to write the functionality for question 2 here\n",
        "  pass"
      ]
    },
    {
      "cell_type": "code",
      "execution_count": null,
      "metadata": {
        "id": "NcSVpIqIClwm"
      },
      "outputs": [],
      "source": [
        "def question3():\n",
        "  #you are expected to write the functionality for question 3 here\n",
        "  pass"
      ]
    },
    {
      "cell_type": "code",
      "execution_count": null,
      "metadata": {
        "id": "M6ztJ2DACo00"
      },
      "outputs": [],
      "source": [
        "def question4():\n",
        "  #you are expected to write the functionality for question 4 here\n",
        "  pass"
      ]
    }
  ],
  "metadata": {
    "colab": {
      "collapsed_sections": [],
      "name": "ProgrammingAssignment.ipynb",
      "provenance": []
    },
    "kernelspec": {
      "display_name": "Python 3",
      "name": "python3"
    },
    "language_info": {
      "name": "python",
      "version": "3.12.6"
    }
  },
  "nbformat": 4,
  "nbformat_minor": 0
}
